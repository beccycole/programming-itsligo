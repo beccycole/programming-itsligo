{
 "cells": [
  {
   "cell_type": "markdown",
   "metadata": {},
   "source": [
    "## Python Libraries\n",
    "\n",
    "Python has a large number of libraries which makes it a powerful programming language for analysing data. The libraries imported and used for this assignment are:\n",
    "\n",
    "- NumPy - an array processing package.\n",
    "- Pandas - a data processing library which provides tools for shaping, merging, reshaping, and slicing data sets.\n",
    "- Matplotlib - a graphing library to create 2D plots and graphs on a variety of data formats.\n"
   ]
  },
  {
   "cell_type": "code",
   "execution_count": 1,
   "metadata": {},
   "outputs": [],
   "source": [
    "# Prepares iPython notebook for working with matplotlib\n",
    "%matplotlib inline \n",
    "\n",
    "# for generating random data\n",
    "import numpy as np\n",
    "\n",
    "# for plotting\n",
    "import matplotlib.pyplot as plt\n",
    "\n",
    "# for managing data\n",
    "import pandas as pd "
   ]
  },
  {
   "cell_type": "markdown",
   "metadata": {},
   "source": [
    "### Question 1a What is the difference between Python Lists and Tuples?"
   ]
  },
  {
   "cell_type": "markdown",
   "metadata": {},
   "source": [
    "The main differences between Python Lists and Tuples are:\n",
    "\n",
    " - Python lists are mutable (can be changed after creation) whereas Tuples are immutable (can not be modified after creation).\n",
    " - Lists are enclosed in square brackets whereas Tuples are enclosed by parenthesis.\n"
   ]
  },
  {
   "cell_type": "code",
   "execution_count": null,
   "metadata": {},
   "outputs": [],
   "source": []
  }
 ],
 "metadata": {
  "kernelspec": {
   "display_name": "Python 3",
   "language": "python",
   "name": "python3"
  },
  "language_info": {
   "codemirror_mode": {
    "name": "ipython",
    "version": 3
   },
   "file_extension": ".py",
   "mimetype": "text/x-python",
   "name": "python",
   "nbconvert_exporter": "python",
   "pygments_lexer": "ipython3",
   "version": "3.7.4"
  }
 },
 "nbformat": 4,
 "nbformat_minor": 2
}
